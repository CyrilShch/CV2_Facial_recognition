{
  "nbformat": 4,
  "nbformat_minor": 0,
  "metadata": {
    "accelerator": "GPU",
    "colab": {
      "name": "CV_Ass2_last_updated_submission.ipynb",
      "provenance": [],
      "collapsed_sections": [],
      "toc_visible": true
    },
    "kernelspec": {
      "display_name": "Python 3",
      "name": "python3"
    },
    "language_info": {
      "name": "python"
    }
  },
  "cells": [
    {
      "cell_type": "markdown",
      "metadata": {
        "id": "j0iDuWNqKVZX"
      },
      "source": [
        "# Downloading the data and data preparation functions initialization"
      ]
    },
    {
      "cell_type": "code",
      "metadata": {
        "colab": {
          "base_uri": "https://localhost:8080/"
        },
        "id": "QduIQlDVcug8",
        "outputId": "f678205a-edf3-4d64-adca-93b98e81b150"
      },
      "source": [
        "# install a specific version of the albumentations library \n",
        "!pip install albumentations==0.4.6\n",
        "\n",
        "# imports\n",
        "import torch\n",
        "import torch.nn as nn\n",
        "import torchvision.transforms as transforms\n",
        "import numpy as np\n",
        "import csv\n",
        "from PIL import Image\n",
        "import matplotlib.pyplot as plt\n",
        "import matplotlib.ticker as mticker\n",
        "import torch.utils.data as utils\n",
        "import pandas as pd\n",
        "import itertools\n",
        "import torch.nn.functional as F\n",
        "from sklearn.metrics import confusion_matrix, classification_report\n",
        "from collections import OrderedDict\n",
        "import albumentations as A\n",
        "from albumentations.pytorch import ToTensorV2\n",
        "import cv2\n",
        "import warnings\n",
        "warnings.filterwarnings('ignore')\n",
        "from torch.utils.tensorboard import SummaryWriter\n",
        "\n",
        "\n",
        "# choose a device (GPU or CPU) to perfrom training\n",
        "device = torch.device(\"cuda\" if torch.cuda.is_available() else \"cpu\")\n",
        "print(f\"{device} is being used.\")\n",
        "\n",
        "\n",
        "# download the data and unzip it\n",
        "!wget -c https://www.dropbox.com/s/yriw82at8fbepsy/fer2013.tar.gz\n",
        "!tar -xvf /content/fer2013.tar.gz\n",
        "\n",
        "\n",
        "### DATA PREPARATION FUNCTIONS ###\n",
        "def get_data(dataset_path=\"/content/fer2013/fer2013.csv\", display_random=True):\n",
        "    \"\"\"\n",
        "    Function takes a path to a dataset and returns training, validation and test sets and labels as python lists.\n",
        "\n",
        "    Input: 1) dataset_path - a path to the dataset\n",
        "           2) display_random - flag to indicate whether to display a random image for the dataset (Bool)\n",
        "\n",
        "    Return: 1) train_X - train set of images\n",
        "            2) train_y - train set of labels\n",
        "            3) val_X - validation set of images\n",
        "            4) val_y - validation set of labels\n",
        "            5) test_X - test set of images\n",
        "            6) test_y - test set of labels\n",
        "    \"\"\"\n",
        "    # read the data set as a pandas dataframe\n",
        "    df = pd.read_csv(dataset_path)\n",
        "\n",
        "    # display the length of the data subsets\n",
        "    print(f\"The length of the training set: {len(df[df['Usage']=='Training'])} samples\")\n",
        "    print(f\"The length of the public test set: {len(df[df['Usage']=='PublicTest'])} samples\")\n",
        "    print(f\"The length of the private training set: {len(df[df['Usage']=='PrivateTest'])} samples\")\n",
        "\n",
        "    # create a new column with pixels converted to numpy arrays of the size (48, 48)\n",
        "    width, height = 48, 48\n",
        "    df['faces'] = [np.asarray([int(pixel) for pixel in x.split()]).reshape(width, height).astype('float32') for x in df['pixels']]\n",
        "\n",
        "    # displays a random image with its label\n",
        "    if display_random:\n",
        "        display_random_pic(list(df['faces']), list(df['emotion']))\n",
        "\n",
        "    # divide the dataframe into training, validation and test dataframe subsets\n",
        "    df_train = df[df['Usage'] == 'Training']\n",
        "    df_valid = df[df['Usage'] == 'PrivateTest']\n",
        "    df_test = df[df['Usage'] == 'PublicTest']\n",
        "\n",
        "    # form training, validation and test sets \n",
        "    # images\n",
        "    train_X = df_train['faces'].tolist()\n",
        "    val_X = df_valid['faces'].tolist()\n",
        "    test_X = df_test['faces'].tolist()\n",
        "    # labels\n",
        "    train_y = df_train['emotion'].tolist()\n",
        "    val_y = df_valid['emotion'].tolist()\n",
        "    test_y = df_test['emotion'].tolist()\n",
        "\n",
        "    return train_X, train_y, val_X, val_y, test_X, test_y\n",
        "\n",
        "\n",
        "def display_random_pic(faces, emotions):\n",
        "    \"\"\"\n",
        "    Displays a random image with its label.\n",
        "\n",
        "    Input: 1) faces - list of images\n",
        "           2) emotions - list of labels\n",
        "\n",
        "    Return: display a random image from the input\n",
        "    \"\"\"\n",
        "    # classes definition\n",
        "    classes = {0: 'Angry', 1: 'Disgust', 2: 'Fear', 3: 'Happy', 4: 'Sad', 5: 'Surprise', 6: 'Neutral'}\n",
        "    idx = np.random.randint(len(faces))\n",
        "    print(classes[emotions[idx]])\n",
        "    plt.imshow(faces[idx], cmap='gray')\n",
        "    plt.axis('off')\n",
        "    plt.show()\n",
        "\n",
        "\n",
        "class CustomDataset(utils.Dataset):\n",
        "    \"\"\"\n",
        "    Defines a PyTorch dataset class that parses a raw data to create a Dataset with (image, label) pairs.\n",
        "    Stores the samples and their corresponding labels.\n",
        "    \"\"\"\n",
        "    def __init__(self, X, y, transforms=None):\n",
        "        \"Initialization\"\n",
        "        self.transforms = transforms\n",
        "        self.X = np.asarray(X, dtype=np.float32).astype(np.float32)\n",
        "        self.y = y\n",
        "\n",
        "    def __len__(self):\n",
        "        \"Denotes the total number of samples\"\n",
        "        return len(self.X)\n",
        "    \n",
        "    def __getitem__(self, index):\n",
        "        \"get data and get label\"\n",
        "        image = self.X[index]\n",
        "        label = self.y[index]\n",
        "\n",
        "        # duplicate gray scale channel to make 3-channel tensor\n",
        "        image = np.stack([image] * 3, axis=-1)\n",
        "        # scale the image\n",
        "        # image /= 255.\n",
        "        # apply the transformations\n",
        "        if self.transforms:\n",
        "            image = self.transforms(image=image)['image']\n",
        "            \n",
        "        return image, torch.tensor(label, dtype=torch.long)\n",
        "        \n",
        "\n",
        "def get_train_transforms():\n",
        "    \"\"\"\n",
        "    Function that creates transformations for a training set\n",
        "\n",
        "    Return: transformations for a training set\n",
        "    \"\"\"\n",
        "    return A.Compose(\n",
        "        [    \n",
        "            A.HorizontalFlip(p=0.5), # Flip the input horizontally around the y-axis.\n",
        "            A.VerticalFlip(p=0.3), # Flip the input vertically around the x-axis.\n",
        "            A.Rotate(limit=10, border_mode=cv2.BORDER_REPLICATE, p=0.2), # Rotate the input by an angle selected randomly from the uniform distribution.\n",
        "            A.Cutout(num_holes=8, max_h_size=2, max_w_size=2, fill_value=0, p=0.2), # CoarseDropout of the square regions in the image.\n",
        "            A.GaussNoise(p=0.2), # Apply gaussian noise to the input image.\n",
        "            ToTensorV2(p=1.0), # Convert to Tensor\n",
        "        ], \n",
        "        p=1.0)\n",
        "\n",
        "\n",
        "def get_valid_transforms():\n",
        "    \"\"\"\n",
        "    Function that creates transformations for validation and test sets\n",
        "\n",
        "    Return: transformations for val and test sets\n",
        "    \"\"\"\n",
        "    return A.Compose(\n",
        "        [\n",
        "            ToTensorV2(p=1.0), # Convert to Tensor\n",
        "        ], \n",
        "        p=1.0\n",
        "    )\n",
        "\n",
        "\n",
        "def get_dataloaders(train_X, train_y, val_X, val_y, test_X, test_y, bs=64):\n",
        "    \"\"\"\n",
        "    Function takes training, validation and test datasets and return Pytorch dataloaders\n",
        "    that wraps an iterable around the Dataset to enable easy access to the samples.\n",
        "\n",
        "    Input:1) train_X - train set of images\n",
        "          2) train_y - train set of labels\n",
        "          3) val_X - validation set of images\n",
        "          4) val_y - validation set of labels\n",
        "          5) test_X - test set of images\n",
        "          6) test_y - test set of labels\n",
        "          7) bs - the size of batch size\n",
        "    \n",
        "    Return:1) trainloader - training loader\n",
        "           2) valloader - validation loader\n",
        "           3) testloader - test loader\n",
        "    \"\"\"\n",
        "    # specify dataloaders parameters\n",
        "    batch_size = bs\n",
        "    num_workers = 2\n",
        "    # create Pytorch train, val and test datasets\n",
        "    train_dataset = CustomDataset(train_X, train_y, transforms=get_train_transforms())\n",
        "    val_dataset = CustomDataset(val_X, val_y, transforms=get_valid_transforms())\n",
        "    test_dataset = CustomDataset(test_X, test_y, transforms=get_valid_transforms())\n",
        "\n",
        "    # create Pytorch dataloaders that wraps an iterable around the Dataset to enable easy access to the samples\n",
        "    trainloader = utils.DataLoader(train_dataset, batch_size=batch_size, shuffle=True, num_workers=num_workers, pin_memory=True)\n",
        "    valloader = utils.DataLoader(val_dataset, batch_size=batch_size, shuffle=False, num_workers=num_workers, pin_memory=True)\n",
        "    testloader = utils.DataLoader(test_dataset, batch_size=batch_size, shuffle=False, num_workers=num_workers, pin_memory=True)\n",
        "\n",
        "    return trainloader, valloader, testloader\n",
        "\n",
        "\n",
        "### MODEL TRAINING FUNCTIONS ###\n",
        "def train_model(model, criterion, optimizer, trainloader, validloader, epochs=50, save=True, scheduler=None, scheduler_mode='epoch'):\n",
        "    \"\"\"\n",
        "    Function takes a model and training parameters and performs training.\n",
        "\n",
        "    Input: 1) model - the model to train\n",
        "           2) criterion - loss function\n",
        "           3) optimizer - optimization algorithm\n",
        "           4) trainloader - training loader\n",
        "           5) validloader - validation loader\n",
        "           6) epochs - the number of epochs to train the model\n",
        "           7) save - a flag to indicate to save the model if it decreases validation loss (Bool)\n",
        "           8) scheduler - function to control the learning rage of the training\n",
        "           9) scheduler_mode - method to apply scheduler: \"epoch\" applies every epoch iteration, \"batch\" applies every batch iteration (str)\n",
        "\n",
        "    Return: 1) model - the trained model\n",
        "            2) train_losses - list of training epoch loss\n",
        "            3) val_losses - list of validation epoch loss\n",
        "    \"\"\"\n",
        "    train_losses = []\n",
        "    val_losses = []\n",
        "    # initial threshold for model saving\n",
        "    val_loss_min = np.Inf\n",
        "\n",
        "    # iterate over epochs\n",
        "    for epoch in range(epochs):\n",
        "        ### TRAINING ###\n",
        "        train_running_loss = 0\n",
        "        train_accuracy = 0\n",
        "\n",
        "        # set a model to the training mode\n",
        "        model.train()\n",
        "\n",
        "        # iterate over batches\n",
        "        for images, labels in trainloader:\n",
        "            # put images and labels of a batch on GPUs\n",
        "            images, labels = images.cuda(), labels.long().cuda()\n",
        "            # clear the gradients, do this because gradients are accumulated\n",
        "            optimizer.zero_grad()\n",
        "            # perform modeling for each image batch, return log softmax of the logits (log of probabilities)\n",
        "            log_probs = model(images)[-1]\n",
        "            # calculate the loss\n",
        "            loss = criterion(log_probs, labels)\n",
        "            # calculate gradients of parameter (model learns by backpropagating)\n",
        "            loss.backward()\n",
        "            # optimize the model weights\n",
        "            optimizer.step()\n",
        "\n",
        "            # scheduler to adjust the learning rate\n",
        "            if scheduler is not None:\n",
        "                if scheduler_mode == 'batch':\n",
        "                    # print(\"scheduler works with batches\")\n",
        "                    scheduler.step()\n",
        "\n",
        "            # calculate the training loss\n",
        "            train_running_loss += loss.item()            \n",
        "            # output of the model are log-probabilities, need to take exponential to get the probability distribution over the classes\n",
        "            probs = torch.exp(log_probs)\n",
        "\n",
        "            # higher the probability for a class, the more the network thinks that the image is of the particular class, get the index of the highest probability\n",
        "            _, predicted = torch.max(probs.data, 1)\n",
        "            matched = (predicted == labels).squeeze()\n",
        "            # calculate the training accuracy\n",
        "            train_accuracy += torch.mean(matched.type(torch.FloatTensor))\n",
        "\n",
        "        # calculate the epoch training loss\n",
        "        train_losses.append(train_running_loss / len(trainloader))\n",
        "\n",
        "        ### TESTING ###\n",
        "        val_running_loss = 0\n",
        "        val_accuracy = 0\n",
        "        # initialize lists for the confusion matrix\n",
        "        y_pred_list = []\n",
        "        y_gt_list = []\n",
        "\n",
        "        # set a model to the evaluation mode (freeze the weights)\n",
        "        model.eval()\n",
        "\n",
        "        # disable the backpropogation\n",
        "        with torch.no_grad():\n",
        "            # iterate over batches\n",
        "            for images, labels in validloader:\n",
        "                # put images and labels of a batch on GPUs\n",
        "                images, labels = images.cuda(), labels.long().cuda()\n",
        "                # perform modeling for each image batch,\n",
        "                log_probs = model(images)[-1]\n",
        "                # calculate the validation loss\n",
        "                val_running_loss += criterion(log_probs, labels)\n",
        "                # get the probability distribution over the classes\n",
        "                probs = torch.exp(log_probs)\n",
        "                # get the index of the highest probability\n",
        "                _, predicted = torch.max(probs.data, 1)\n",
        "                matched = (predicted == labels).squeeze()\n",
        "                # calculate the accuracy\n",
        "                val_accuracy += torch.mean(matched.type(torch.FloatTensor))\n",
        "\n",
        "                # append the lists with predictions and labels to calculate F1 score, precision and recall\n",
        "                y_pred_list.append(predicted.cpu().numpy())\n",
        "                y_gt_list.append(labels.cpu().numpy())\n",
        "        \n",
        "        # calculate and report accuracy, F1 score, precision, and recall of the validation set\n",
        "        y_pred_list = [a.squeeze().tolist() for a in y_pred_list]\n",
        "        y_gt_list = [a.squeeze().tolist() for a in y_gt_list]\n",
        "        y_pred_list_new = list(itertools.chain.from_iterable(y_pred_list))\n",
        "        y_gt_list_new = list(itertools.chain.from_iterable(y_gt_list))\n",
        "\n",
        "        # calculate the epoch validation loss\n",
        "        val_losses.append(val_running_loss / len(validloader))\n",
        "\n",
        "        # report the performance of the current epoch\n",
        "        print(f\"Epoch {epoch+1} ===> {epochs}: \",\n",
        "              f\"Training loss: {train_losses[-1]:.3f} |\",\n",
        "              f\"Validation loss: {val_losses[-1]:.3f} |\",\n",
        "              f\"Training accuracy: {train_accuracy/len(trainloader):.3f} |\",\n",
        "              f\"Validation accuracy: {val_accuracy/len(validloader):.3f} |\")\n",
        "        \n",
        "        print(\"Validation metrics:\")\n",
        "        print(\"\\n\")\n",
        "        print(classification_report(np.asarray(y_gt_list_new, dtype=np.float32), np.asarray(y_pred_list_new, dtype=np.float32)))\n",
        "        print(\"\\n\")\n",
        "\n",
        "        if save:\n",
        "            # save the model if it decreases validation loss\n",
        "            if val_running_loss / len(validloader) <= val_loss_min:\n",
        "                print(f\"The validation loss has decreased: {val_loss_min:.4f} ===> {val_running_loss/len(validloader):.4f}\")\n",
        "                print(\"Start saving the model...\")\n",
        "                torch.save(model.state_dict(), 'opt_model.pt')\n",
        "                val_loss_min = val_running_loss/len(validloader)\n",
        "                print(\"The model has been successfully saved.\")\n",
        "\n",
        "        if scheduler is not None:\n",
        "            if scheduler_mode == 'epoch':\n",
        "                # print(\"scheduler works with epochs\")\n",
        "                scheduler.step()\n",
        "\n",
        "    return model, train_losses, val_losses"
      ],
      "execution_count": 1,
      "outputs": [
        {
          "output_type": "stream",
          "text": [
            "Collecting albumentations==0.4.6\n",
            "\u001b[?25l  Downloading https://files.pythonhosted.org/packages/92/33/1c459c2c9a4028ec75527eff88bc4e2d256555189f42af4baf4d7bd89233/albumentations-0.4.6.tar.gz (117kB)\n",
            "\u001b[K     |████████████████████████████████| 122kB 8.1MB/s \n",
            "\u001b[?25hRequirement already satisfied: numpy>=1.11.1 in /usr/local/lib/python3.7/dist-packages (from albumentations==0.4.6) (1.19.5)\n",
            "Requirement already satisfied: scipy in /usr/local/lib/python3.7/dist-packages (from albumentations==0.4.6) (1.4.1)\n",
            "Collecting imgaug>=0.4.0\n",
            "\u001b[?25l  Downloading https://files.pythonhosted.org/packages/66/b1/af3142c4a85cba6da9f4ebb5ff4e21e2616309552caca5e8acefe9840622/imgaug-0.4.0-py2.py3-none-any.whl (948kB)\n",
            "\u001b[K     |████████████████████████████████| 952kB 33.5MB/s \n",
            "\u001b[?25hRequirement already satisfied: PyYAML in /usr/local/lib/python3.7/dist-packages (from albumentations==0.4.6) (3.13)\n",
            "Requirement already satisfied: opencv-python>=4.1.1 in /usr/local/lib/python3.7/dist-packages (from albumentations==0.4.6) (4.1.2.30)\n",
            "Requirement already satisfied: scikit-image>=0.14.2 in /usr/local/lib/python3.7/dist-packages (from imgaug>=0.4.0->albumentations==0.4.6) (0.16.2)\n",
            "Requirement already satisfied: imageio in /usr/local/lib/python3.7/dist-packages (from imgaug>=0.4.0->albumentations==0.4.6) (2.4.1)\n",
            "Requirement already satisfied: Shapely in /usr/local/lib/python3.7/dist-packages (from imgaug>=0.4.0->albumentations==0.4.6) (1.7.1)\n",
            "Requirement already satisfied: six in /usr/local/lib/python3.7/dist-packages (from imgaug>=0.4.0->albumentations==0.4.6) (1.15.0)\n",
            "Requirement already satisfied: matplotlib in /usr/local/lib/python3.7/dist-packages (from imgaug>=0.4.0->albumentations==0.4.6) (3.2.2)\n",
            "Requirement already satisfied: Pillow in /usr/local/lib/python3.7/dist-packages (from imgaug>=0.4.0->albumentations==0.4.6) (7.1.2)\n",
            "Requirement already satisfied: networkx>=2.0 in /usr/local/lib/python3.7/dist-packages (from scikit-image>=0.14.2->imgaug>=0.4.0->albumentations==0.4.6) (2.5.1)\n",
            "Requirement already satisfied: PyWavelets>=0.4.0 in /usr/local/lib/python3.7/dist-packages (from scikit-image>=0.14.2->imgaug>=0.4.0->albumentations==0.4.6) (1.1.1)\n",
            "Requirement already satisfied: python-dateutil>=2.1 in /usr/local/lib/python3.7/dist-packages (from matplotlib->imgaug>=0.4.0->albumentations==0.4.6) (2.8.1)\n",
            "Requirement already satisfied: pyparsing!=2.0.4,!=2.1.2,!=2.1.6,>=2.0.1 in /usr/local/lib/python3.7/dist-packages (from matplotlib->imgaug>=0.4.0->albumentations==0.4.6) (2.4.7)\n",
            "Requirement already satisfied: kiwisolver>=1.0.1 in /usr/local/lib/python3.7/dist-packages (from matplotlib->imgaug>=0.4.0->albumentations==0.4.6) (1.3.1)\n",
            "Requirement already satisfied: cycler>=0.10 in /usr/local/lib/python3.7/dist-packages (from matplotlib->imgaug>=0.4.0->albumentations==0.4.6) (0.10.0)\n",
            "Requirement already satisfied: decorator<5,>=4.3 in /usr/local/lib/python3.7/dist-packages (from networkx>=2.0->scikit-image>=0.14.2->imgaug>=0.4.0->albumentations==0.4.6) (4.4.2)\n",
            "Building wheels for collected packages: albumentations\n",
            "  Building wheel for albumentations (setup.py) ... \u001b[?25l\u001b[?25hdone\n",
            "  Created wheel for albumentations: filename=albumentations-0.4.6-cp37-none-any.whl size=65163 sha256=1a0e0a7a335ad5adcacd0d7af0ee552796cf7459f39ab93627cde5fa8e990cfd\n",
            "  Stored in directory: /root/.cache/pip/wheels/c7/f4/89/56d1bee5c421c36c1a951eeb4adcc32fbb82f5344c086efa14\n",
            "Successfully built albumentations\n",
            "Installing collected packages: imgaug, albumentations\n",
            "  Found existing installation: imgaug 0.2.9\n",
            "    Uninstalling imgaug-0.2.9:\n",
            "      Successfully uninstalled imgaug-0.2.9\n",
            "  Found existing installation: albumentations 0.1.12\n",
            "    Uninstalling albumentations-0.1.12:\n",
            "      Successfully uninstalled albumentations-0.1.12\n",
            "Successfully installed albumentations-0.4.6 imgaug-0.4.0\n",
            "cuda is being used.\n",
            "--2021-05-25 11:29:09--  https://www.dropbox.com/s/yriw82at8fbepsy/fer2013.tar.gz\n",
            "Resolving www.dropbox.com (www.dropbox.com)... 162.125.4.18, 2620:100:6021:18::a27d:4112\n",
            "Connecting to www.dropbox.com (www.dropbox.com)|162.125.4.18|:443... connected.\n",
            "HTTP request sent, awaiting response... 301 Moved Permanently\n",
            "Location: /s/raw/yriw82at8fbepsy/fer2013.tar.gz [following]\n",
            "--2021-05-25 11:29:10--  https://www.dropbox.com/s/raw/yriw82at8fbepsy/fer2013.tar.gz\n",
            "Reusing existing connection to www.dropbox.com:443.\n",
            "HTTP request sent, awaiting response... 302 Found\n",
            "Location: https://uc33f7a15422f9bf19234e63b933.dl.dropboxusercontent.com/cd/0/inline/BPL_hiXSfU6Yv0CEQrdiKjIPafi-G_LJHrmKOCNTUHsZAbO7dmbPkJL_CNAIogC1eE7mVsqbSOgtu3Bc7wGruaDM3EH-t7juWDxf7QnfDdfSSAuACzb4fhEd4ylFdy6OWnHkbEQVSKukMX165r7GmNEk/file# [following]\n",
            "--2021-05-25 11:29:10--  https://uc33f7a15422f9bf19234e63b933.dl.dropboxusercontent.com/cd/0/inline/BPL_hiXSfU6Yv0CEQrdiKjIPafi-G_LJHrmKOCNTUHsZAbO7dmbPkJL_CNAIogC1eE7mVsqbSOgtu3Bc7wGruaDM3EH-t7juWDxf7QnfDdfSSAuACzb4fhEd4ylFdy6OWnHkbEQVSKukMX165r7GmNEk/file\n",
            "Resolving uc33f7a15422f9bf19234e63b933.dl.dropboxusercontent.com (uc33f7a15422f9bf19234e63b933.dl.dropboxusercontent.com)... 162.125.4.15, 2620:100:6021:15::a27d:410f\n",
            "Connecting to uc33f7a15422f9bf19234e63b933.dl.dropboxusercontent.com (uc33f7a15422f9bf19234e63b933.dl.dropboxusercontent.com)|162.125.4.15|:443... connected.\n",
            "HTTP request sent, awaiting response... 302 Found\n",
            "Location: /cd/0/inline2/BPJh0WHsjR27Et3WJazVrE_rjhYVqYodjDG6DP4zDAFz6JIvXvutFrRiYIM2Lfz8p16NI75g274k7V29pB4pyqhiadXyX0ZugyN9OLMa7-s0-QUVZG29Kf8eLLLR70XFa0IlQtZ_voTjH_IwNULz6ahvKT60wqg6YrtGGgJM0l1THgonZLyIQ_3dWSdti64i9iQ2P0Il1DVR6IBL51SF2zfGV_wjiVBSZZcNU3YRBddUshgT1Shtc1iDr8mtxVyWwF7P1aMeWxnl6VvTMYVVXLMmHj4SioIWEAZh4X916S42Y2j7PsWHk947uy6_ezaUm_svlNy3wZHRlISoGikaUuzVPyfmBxHDNoj48URUyDtdmagz5ZytIG5lTD9tzD5sdOM/file [following]\n",
            "--2021-05-25 11:29:11--  https://uc33f7a15422f9bf19234e63b933.dl.dropboxusercontent.com/cd/0/inline2/BPJh0WHsjR27Et3WJazVrE_rjhYVqYodjDG6DP4zDAFz6JIvXvutFrRiYIM2Lfz8p16NI75g274k7V29pB4pyqhiadXyX0ZugyN9OLMa7-s0-QUVZG29Kf8eLLLR70XFa0IlQtZ_voTjH_IwNULz6ahvKT60wqg6YrtGGgJM0l1THgonZLyIQ_3dWSdti64i9iQ2P0Il1DVR6IBL51SF2zfGV_wjiVBSZZcNU3YRBddUshgT1Shtc1iDr8mtxVyWwF7P1aMeWxnl6VvTMYVVXLMmHj4SioIWEAZh4X916S42Y2j7PsWHk947uy6_ezaUm_svlNy3wZHRlISoGikaUuzVPyfmBxHDNoj48URUyDtdmagz5ZytIG5lTD9tzD5sdOM/file\n",
            "Reusing existing connection to uc33f7a15422f9bf19234e63b933.dl.dropboxusercontent.com:443.\n",
            "HTTP request sent, awaiting response... 200 OK\n",
            "Length: 96433867 (92M) [application/octet-stream]\n",
            "Saving to: ‘fer2013.tar.gz’\n",
            "\n",
            "fer2013.tar.gz      100%[===================>]  91.97M  35.6MB/s    in 2.6s    \n",
            "\n",
            "2021-05-25 11:29:14 (35.6 MB/s) - ‘fer2013.tar.gz’ saved [96433867/96433867]\n",
            "\n",
            "fer2013/fer2013.csv\n",
            "fer2013/README\n",
            "fer2013/fer2013.bib\n",
            "fer2013/\n"
          ],
          "name": "stdout"
        }
      ]
    },
    {
      "cell_type": "markdown",
      "metadata": {
        "id": "kY0rKz7uKYv7"
      },
      "source": [
        "# Models"
      ]
    },
    {
      "cell_type": "code",
      "metadata": {
        "id": "9Lh64axrSiU9"
      },
      "source": [
        "### MODELS ###\n",
        "\n",
        "# Model 1 (Version of filters 1)\n",
        "class Net1_1(nn.Module):\n",
        "    def __init__(self, kernel_size = 5, dropout=0.0):\n",
        "        super(Net1_1, self).__init__()\n",
        "        self.dropout = dropout\n",
        "\n",
        "        # layer 1\n",
        "        self.layer1 = nn.Sequential(\n",
        "            nn.Conv2d(in_channels=3, out_channels=16, kernel_size=kernel_size, stride=1, padding=2),\n",
        "            nn.BatchNorm2d(16),\n",
        "            nn.ReLU(inplace=True),\n",
        "            nn.MaxPool2d(2, 2))\n",
        "\n",
        "        # layer 2\n",
        "        self.layer2 = nn.Sequential(\n",
        "            nn.Conv2d(in_channels=16, out_channels=32, kernel_size=kernel_size, stride=1, padding=2),\n",
        "            nn.BatchNorm2d(32),\n",
        "            nn.ReLU(inplace=True),\n",
        "            nn.MaxPool2d(2, 2))\n",
        "\n",
        "        # layer 3\n",
        "        self.layer3 = nn.Sequential(\n",
        "            nn.Conv2d(in_channels=32, out_channels=64, kernel_size=kernel_size, stride=1, padding=2),\n",
        "            nn.BatchNorm2d(64),\n",
        "            nn.ReLU(inplace=True))\n",
        "        \n",
        "        # layer 4\n",
        "        self.layer4 = nn.Sequential(\n",
        "            nn.Conv2d(in_channels=64, out_channels=128, kernel_size=kernel_size, stride=1, padding=2),\n",
        "            nn.BatchNorm2d(128),\n",
        "            nn.ReLU(inplace=True),\n",
        "            nn.MaxPool2d(2, 2))\n",
        "\n",
        "        # fc layers\n",
        "        if kernel_size == 5:\n",
        "            self.fc1 = nn.Sequential(\n",
        "                nn.Linear(4608, 64),\n",
        "                nn.BatchNorm1d(64),\n",
        "                nn.ReLU(inplace=True),\n",
        "                nn.Dropout(self.dropout)) \n",
        "\n",
        "        elif kernel_size == 3:\n",
        "            self.fc1 = nn.Sequential(\n",
        "                nn.Linear(8192, 64),\n",
        "                nn.BatchNorm1d(64),\n",
        "                nn.ReLU(inplace=True))\n",
        "\n",
        "        self.fc2 = nn.Linear(64, 7) \n",
        "        self.log_softmax = nn.LogSoftmax(dim=1)\n",
        "\n",
        "\n",
        "    def forward(self, x):\n",
        "        x = self.layer1(x)\n",
        "        x = self.layer2(x)\n",
        "        x = self.layer3(x)\n",
        "        x = self.layer4(x)\n",
        "        x = x.reshape(x.size(0), -1)\n",
        "        x = self.fc1(x)\n",
        "        x = self.fc2(x)\n",
        "\n",
        "        return x, self.log_softmax(x)\n",
        "\n",
        "\n",
        "# Model 1 (Version of filters 2)\n",
        "class Net1_2(nn.Module):\n",
        "    def __init__(self, kernel_size = 5, dropout=0.0):\n",
        "        super(Net1_2, self).__init__()\n",
        "        self.dropout = dropout\n",
        "\n",
        "        # layer 1\n",
        "        self.layer1 = nn.Sequential(\n",
        "            nn.Conv2d(in_channels=3, out_channels=32, kernel_size=kernel_size, stride=1, padding=2),\n",
        "            nn.BatchNorm2d(32),\n",
        "            nn.ReLU(inplace=True),\n",
        "            nn.MaxPool2d(2, 2))\n",
        "\n",
        "        # layer 2\n",
        "        self.layer2 = nn.Sequential(\n",
        "            nn.Conv2d(in_channels=32, out_channels=64, kernel_size=kernel_size, stride=1, padding=2),\n",
        "            nn.BatchNorm2d(64),\n",
        "            nn.ReLU(inplace=True),\n",
        "            nn.MaxPool2d(2, 2))\n",
        "\n",
        "        # layer 3\n",
        "        self.layer3 = nn.Sequential(\n",
        "            nn.Conv2d(in_channels=64, out_channels=128, kernel_size=kernel_size, stride=1, padding=2),\n",
        "            nn.BatchNorm2d(128),\n",
        "            nn.ReLU(inplace=True))\n",
        "        \n",
        "        # layer 4\n",
        "        self.layer4 = nn.Sequential(\n",
        "            nn.Conv2d(in_channels=128, out_channels=256, kernel_size=kernel_size, stride=1, padding=2),\n",
        "            nn.BatchNorm2d(256),\n",
        "            nn.ReLU(inplace=True),\n",
        "            nn.MaxPool2d(2, 2))\n",
        "\n",
        "        # fc layers\n",
        "        if kernel_size == 5:\n",
        "            self.fc1 = nn.Sequential(\n",
        "                nn.Linear(9216, 64),\n",
        "                nn.BatchNorm1d(64),\n",
        "                nn.ReLU(inplace=True),\n",
        "                nn.Dropout(self.dropout)) \n",
        "\n",
        "        elif kernel_size == 3:\n",
        "            self.fc1 = nn.Sequential(\n",
        "                nn.Linear(16384, 64),\n",
        "                nn.BatchNorm1d(64),\n",
        "                nn.ReLU(inplace=True))\n",
        "\n",
        "        self.fc2 = nn.Linear(64, 7) \n",
        "        self.log_softmax = nn.LogSoftmax(dim=1)\n",
        "\n",
        "\n",
        "    def forward(self, x):\n",
        "        x = self.layer1(x)\n",
        "        x = self.layer2(x)\n",
        "        x = self.layer3(x)\n",
        "        x = self.layer4(x)\n",
        "        x = x.reshape(x.size(0), -1)\n",
        "\n",
        "        x = self.fc1(x)\n",
        "        x = self.fc2(x)\n",
        "\n",
        "        return x, self.log_softmax(x)\n",
        "\n",
        "\n",
        "# Model 1 (Version of filters 3)\n",
        "class Net1_3(nn.Module):\n",
        "    def __init__(self, kernel_size = 5, dropout=0.0):\n",
        "        super(Net1_3, self).__init__()\n",
        "        self.dropout = dropout\n",
        "\n",
        "        # layer 1\n",
        "        self.layer1 = nn.Sequential(\n",
        "            nn.Conv2d(in_channels=3, out_channels=64, kernel_size=kernel_size, stride=1, padding=2),\n",
        "            nn.BatchNorm2d(64),\n",
        "            nn.ReLU(inplace=True),\n",
        "            nn.MaxPool2d(2, 2))\n",
        "\n",
        "        # layer 2\n",
        "        self.layer2 = nn.Sequential(\n",
        "            nn.Conv2d(in_channels=64, out_channels=128, kernel_size=kernel_size, stride=1, padding=2),\n",
        "            nn.BatchNorm2d(128),\n",
        "            nn.ReLU(inplace=True),\n",
        "            nn.MaxPool2d(2, 2))\n",
        "\n",
        "        # layer 3\n",
        "        self.layer3 = nn.Sequential(\n",
        "            nn.Conv2d(in_channels=128, out_channels=256, kernel_size=kernel_size, stride=1, padding=2),\n",
        "            nn.BatchNorm2d(256),\n",
        "            nn.ReLU(inplace=True))\n",
        "        \n",
        "        # layer 4\n",
        "        self.layer4 = nn.Sequential(\n",
        "            nn.Conv2d(in_channels=256, out_channels=512, kernel_size=kernel_size, stride=1, padding=2),\n",
        "            nn.BatchNorm2d(512),\n",
        "            nn.ReLU(inplace=True),\n",
        "            nn.MaxPool2d(2, 2))\n",
        "\n",
        "        # fc layers\n",
        "        if kernel_size == 5:\n",
        "            self.fc1 = nn.Sequential(\n",
        "                nn.Linear(18432, 64),\n",
        "                nn.BatchNorm1d(64),\n",
        "                nn.ReLU(inplace=True),\n",
        "                nn.Dropout(self.dropout)) \n",
        "\n",
        "        elif kernel_size == 3:\n",
        "            self.fc1 = nn.Sequential(\n",
        "                nn.Linear(32768, 64),\n",
        "                nn.BatchNorm1d(64),\n",
        "                nn.ReLU(inplace=True))\n",
        "\n",
        "        self.fc2 = nn.Linear(64, 7) \n",
        "        self.log_softmax = nn.LogSoftmax(dim=1)\n",
        "\n",
        "\n",
        "    def forward(self, x):\n",
        "        x = self.layer1(x)\n",
        "        x = self.layer2(x)\n",
        "        x = self.layer3(x)\n",
        "        x = self.layer4(x)\n",
        "        x = x.reshape(x.size(0), -1)\n",
        "        x = self.fc1(x)\n",
        "        x = self.fc2(x)\n",
        "\n",
        "        return x, self.log_softmax(x)\n",
        "\n",
        "\n",
        "\n",
        "# Model 2\n",
        "class Net2(nn.Module):\n",
        "    def __init__(self, dropout=0.0):\n",
        "        super(Net2, self).__init__()\n",
        "\n",
        "        self.dropout = dropout\n",
        "\n",
        "        self.conv_module = nn.Sequential(OrderedDict([\n",
        "            # layer 1\n",
        "            (\"conv1\", nn.Conv2d(in_channels=3, out_channels=8, kernel_size=3)),\n",
        "            (\"batch1\", nn.BatchNorm2d(8)),\n",
        "            (\"relu1\", nn.ReLU(inplace=True)),\n",
        "            (\"dropout1\", nn.Dropout(self.dropout)),   \n",
        "            (\"maxpool1\", nn.MaxPool2d(2, 1)),\n",
        "\n",
        "            # layer 2\n",
        "            (\"conv2\", nn.Conv2d(in_channels=8, out_channels=16, kernel_size=3)),\n",
        "            (\"batch2\", nn.BatchNorm2d(16)),\n",
        "            (\"relu2\", nn.ReLU(inplace=True)),\n",
        "            (\"dropout2\", nn.Dropout(self.dropout)),              \n",
        "            (\"maxpool2\", nn.MaxPool2d(2, 1)),\n",
        "\n",
        "            # layer 3\n",
        "            (\"conv3\", nn.Conv2d(in_channels=16, out_channels=32, kernel_size=3)),\n",
        "            (\"batch3\", nn.BatchNorm2d(32)),\n",
        "            (\"relu3\", nn.ReLU(inplace=True)),\n",
        "            (\"dropout3\", nn.Dropout(self.dropout)),              \n",
        "            (\"maxpool3\", nn.MaxPool2d(2, 1)),\n",
        "\n",
        "            # layer 4\n",
        "            (\"conv4\", nn.Conv2d(in_channels=32, out_channels=64, kernel_size=3)),\n",
        "            (\"batch4\", nn.BatchNorm2d(64)),\n",
        "            (\"relu4\", nn.ReLU(inplace=True)),\n",
        "            (\"dropout4\", nn.Dropout(self.dropout)),              \n",
        "            (\"maxpool4\", nn.MaxPool2d(2, 1)),\n",
        "\n",
        "            # layer 5\n",
        "            (\"conv5\", nn.Conv2d(in_channels=64, out_channels=128, kernel_size=3)),\n",
        "            (\"batch5\", nn.BatchNorm2d(128)),\n",
        "            (\"relu5\", nn.ReLU(inplace=True)),\n",
        "            (\"dropout5\", nn.Dropout(self.dropout)),              \n",
        "            (\"maxpool5\", nn.MaxPool2d(2, 2)),          \n",
        "\n",
        "            # layer 6           \n",
        "            (\"conv6\", nn.Conv2d(in_channels=128, out_channels=256, kernel_size=3)),\n",
        "            (\"batch6\", nn.BatchNorm2d(256)),\n",
        "            (\"relu6\", nn.ReLU(inplace=True)),\n",
        "            (\"dropout6\", nn.Dropout(self.dropout)),              \n",
        "            (\"maxpool6\", nn.MaxPool2d(2, 2)),   \n",
        "\n",
        "            # layer 7\n",
        "            (\"conv7\", nn.Conv2d(in_channels=256, out_channels=256, kernel_size=3)),\n",
        "            (\"batch7\", nn.BatchNorm2d(256)),\n",
        "            (\"relu7\", nn.ReLU(inplace=True)),\n",
        "            (\"dropout7\", nn.Dropout(self.dropout)),              \n",
        "            (\"maxpool7\", nn.MaxPool2d(2, 2))\n",
        "\n",
        "            ]))\n",
        "        \n",
        "        self.fc_module = nn.Sequential(OrderedDict([\n",
        "            # layer 1\n",
        "            (\"fc1\", nn.Linear(1024, 512)),\n",
        "            (\"bn1\",  nn.BatchNorm1d(512)),\n",
        "            (\"relu1\", nn.ReLU(inplace=True)),\n",
        "            (\"dropout1\", nn.Dropout(self.dropout)),   \n",
        "\n",
        "            # layer 2           \n",
        "            (\"fc2\", nn.Linear(512, 256)),\n",
        "            (\"bn2\",  nn.BatchNorm1d(256)),\n",
        "            (\"relu2\", nn.ReLU(inplace=True)),\n",
        "            (\"dropout2\", nn.Dropout(self.dropout)),   \n",
        "\n",
        "            # layer 3 \n",
        "            (\"fc3\", nn.Linear(256, 7)),\n",
        "                                          \n",
        "            ]))\n",
        "\n",
        "        self.log_softmax = nn.LogSoftmax(dim=1)\n",
        "      \n",
        "    def forward(self, x):\n",
        "        x = self.conv_module(x)\n",
        "        x = x.view(x.size(0), -1)\n",
        "        x = self.fc_module(x)\n",
        "\n",
        "        return x, self.log_softmax(x)\n",
        "\n",
        "# Model 3\n",
        "class UpgradedNet(nn.Module):\n",
        "    def __init__(self, dropout=0.0, channel_coef=1):\n",
        "        super(UpgradedNet, self).__init__()\n",
        "        self.dropout = dropout\n",
        "        self.channel_coef = channel_coef\n",
        "\n",
        "        # convolutional part of the architecture\n",
        "        self.cnn1 = nn.Conv2d(in_channels=3, out_channels=32*self.channel_coef, kernel_size=(3, 3), padding=1, bias=False)\n",
        "        self.cnn2 = nn.Conv2d(in_channels=32*self.channel_coef, out_channels=64*self.channel_coef, kernel_size=(3, 3), padding=1, bias=False)\n",
        "        self.cnn3 = nn.Conv2d(in_channels=64*self.channel_coef, out_channels=128*self.channel_coef, kernel_size=(3, 3), padding=1, bias=False)\n",
        "        self.cnn4 = nn.Conv2d(in_channels=128*self.channel_coef, out_channels=256*self.channel_coef, kernel_size=(3, 3), padding=1, bias=False)\n",
        "        self.cnn5 = nn.Conv2d(in_channels=256*self.channel_coef, out_channels=512*self.channel_coef, kernel_size=(1, 1), padding=1 , bias=False)\n",
        "        self.cnn6 = nn.Conv2d(in_channels=512*self.channel_coef, out_channels=1024*self.channel_coef, kernel_size=(3, 3), padding=1, bias=False)\n",
        "        self.cnn7 = nn.Conv2d(in_channels=1024*self.channel_coef, out_channels=1024, kernel_size=(3, 3), padding=1, bias=False)\n",
        "        self.cnn8 = nn.Conv2d(in_channels=1024, out_channels=512, kernel_size=(3, 3), padding=1, bias=False)\n",
        "        self.cnn9 = nn.Conv2d(in_channels=512, out_channels=256, kernel_size=(3, 3), padding=0, bias=False)\n",
        "        self.cnn10 = nn.Conv2d(in_channels=256, out_channels=7, kernel_size=(1, 1), padding=0, bias=False)\n",
        "\n",
        "        # batch normalizaition part\n",
        "        self.bn1 = nn.BatchNorm2d(32*self.channel_coef)\n",
        "        self.bn2 = nn.BatchNorm2d(64*self.channel_coef)\n",
        "        self.bn3 = nn.BatchNorm2d(128*self.channel_coef)\n",
        "        self.bn4 = nn.BatchNorm2d(256*self.channel_coef)\n",
        "        self.bn5 = nn.BatchNorm2d(512*self.channel_coef)\n",
        "        self.bn6 = nn.BatchNorm2d(1024*self.channel_coef)\n",
        "        self.bn7 = nn.BatchNorm2d(1024)\n",
        "        self.bn8 = nn.BatchNorm2d(512)\n",
        "        self.bn9 = nn.BatchNorm2d(256)\n",
        "\n",
        "        # activation\n",
        "        self.relu = nn.ReLU()\n",
        "\n",
        "        # max pooling\n",
        "        self.max_pool = nn.MaxPool2d(2, 2)\n",
        "\n",
        "        # avg pooling\n",
        "        self.avg_pool = nn.AvgPool2d(kernel_size=4)\n",
        "\n",
        "        # dropout\n",
        "        self.dropout = nn.Dropout(self.dropout)\n",
        "\n",
        "    def forward(self, x):\n",
        "        # layer 1\n",
        "        conv1 = self.cnn1(x)\n",
        "        activ1 = self.relu(conv1)\n",
        "        cnn_bn1 = self.bn1(activ1)\n",
        "\n",
        "        # layer 2\n",
        "        conv2 = self.cnn2(cnn_bn1)\n",
        "        activ2 = self.relu(conv2)\n",
        "        cnn_bn2 = self.bn2(activ2)\n",
        "\n",
        "        # max pooling 1\n",
        "        m_pool1 = self.max_pool(cnn_bn2)\n",
        "\n",
        "        # layer 3\n",
        "        conv3 = self.cnn3(m_pool1)\n",
        "        activ3 = self.relu(conv3)\n",
        "        cnn_bn3 = self.bn3(activ3)\n",
        "\n",
        "        # layer 4\n",
        "        conv4 = self.cnn4(cnn_bn3)\n",
        "        activ4 = self.relu(conv4)\n",
        "        cnn_bn4 = self.bn4(activ4)\n",
        "\n",
        "        # layer 5\n",
        "        conv5 = self.cnn5(cnn_bn4)\n",
        "        activ5 = self.relu(conv5)\n",
        "        cnn_bn5 = self.bn5(activ5)\n",
        "\n",
        "        # max pooling 2\n",
        "        m_pool2 = self.max_pool(cnn_bn5)\n",
        "\n",
        "        # layer 6\n",
        "        conv6 = self.cnn6(m_pool2)\n",
        "        activ6 = self.relu(conv6)\n",
        "        cnn_bn6 = self.bn6(activ6)\n",
        "\n",
        "        # layer 7\n",
        "        conv7 = self.cnn7(cnn_bn6)\n",
        "        activ7 = self.relu(conv7)\n",
        "        cnn_bn7 = self.bn7(activ7)\n",
        "\n",
        "        # max pooling 3\n",
        "        m_pool3 = self.max_pool(cnn_bn7)\n",
        "\n",
        "        # layer 8\n",
        "        conv8 = self.cnn8(m_pool3)\n",
        "        activ8 = self.relu(conv8)\n",
        "        cnn_bn8 = self.bn8(activ8)\n",
        "\n",
        "        # layer 9 \n",
        "        conv9 = self.cnn9(cnn_bn8)\n",
        "        activ9 = self.relu(conv9)\n",
        "        cnn_bn9 = self.bn9(activ9)   \n",
        "\n",
        "        # avg pooling 1\n",
        "        avg_pool1 = self.avg_pool(cnn_bn9)\n",
        "\n",
        "        # layer 10 - final\n",
        "        conv10 = self.cnn10(avg_pool1)\n",
        "\n",
        "        output = conv10.view(-1, 7)\n",
        "\n",
        "        return conv1, activ1, conv2, activ2, conv3, activ3, conv4, activ4, conv5, activ5, conv6, activ6, conv7, activ7, conv8, activ8, conv9, activ9, F.log_softmax(output, dim=-1)"
      ],
      "execution_count": 2,
      "outputs": []
    },
    {
      "cell_type": "markdown",
      "metadata": {
        "id": "cR69Uvx8Kep8"
      },
      "source": [
        "# Model training"
      ]
    },
    {
      "cell_type": "markdown",
      "metadata": {
        "id": "Ydt8pMy5OHJA"
      },
      "source": [
        "Hyperparameters initialization"
      ]
    },
    {
      "cell_type": "code",
      "metadata": {
        "id": "KHD_6QiPOKMV"
      },
      "source": [
        "# batch size\n",
        "bs = 128\n",
        "\n",
        "# number of epochs \n",
        "epochs = 10"
      ],
      "execution_count": 12,
      "outputs": []
    },
    {
      "cell_type": "markdown",
      "metadata": {
        "id": "bp8vupRyOBP1"
      },
      "source": [
        "Creating dataloaders"
      ]
    },
    {
      "cell_type": "code",
      "metadata": {
        "colab": {
          "base_uri": "https://localhost:8080/"
        },
        "id": "NKdKHc_kwKPE",
        "outputId": "f3dfc31d-5dcc-4ddd-d15c-57d0e53959e6"
      },
      "source": [
        "### Get the data\n",
        "train_X, train_y, val_X, val_y, test_X, test_y = get_data(dataset_path=\"/content/fer2013/fer2013.csv\", display_random=False)\n",
        "\n",
        "### Get the dataloaders\n",
        "trainloader, valloader, testloader = get_dataloaders(train_X, train_y, val_X, val_y, test_X, test_y, bs=bs)"
      ],
      "execution_count": 4,
      "outputs": [
        {
          "output_type": "stream",
          "text": [
            "The length of the training set: 28709 samples\n",
            "The length of the public test set: 3589 samples\n",
            "The length of the private training set: 3589 samples\n"
          ],
          "name": "stdout"
        }
      ]
    },
    {
      "cell_type": "markdown",
      "metadata": {
        "id": "kAtxGnk5OZlL"
      },
      "source": [
        "Initialize the model, optimizer, criterion, and scheduler, and run training"
      ]
    },
    {
      "cell_type": "code",
      "metadata": {
        "colab": {
          "base_uri": "https://localhost:8080/"
        },
        "id": "Fw7Gb68oSiW4",
        "outputId": "413a8aba-6cc2-4dfd-ba58-2d55c60fa9a9"
      },
      "source": [
        "### Initialize a model\n",
        "# model = UpgradedNet(dropout = 0.0, channel_coef=2)\n",
        "# model = Net2(dropout = 0.0)\n",
        "model = Net1_1(kernel_size = 3, dropout=0.0)\n",
        "model.to(device)\n",
        "\n",
        "### Define training parameters\n",
        "### Criterions\n",
        "# criterion = nn.NLLLoss()\n",
        "criterion = nn.CrossEntropyLoss()\n",
        "\n",
        "### Optimizers\n",
        "# optimizer = torch.optim.Adam(model.parameters(), lr=3e-3)\n",
        "optimizer = torch.optim.SGD(model.parameters(), lr=0.002, momentum=0.9, weight_decay=9e-4)\n",
        "\n",
        "### scheduler 1\n",
        "scheduler = torch.optim.lr_scheduler.OneCycleLR(optimizer, max_lr=0.02, steps_per_epoch=len(trainloader), pct_start=0.2, div_factor=10, cycle_momentum=False, epochs=epochs)\n",
        "scheduler_mode = 'batch'\n",
        "\n",
        "### scheduler 2\n",
        "# scheduler = torch.optim.lr_scheduler.CosineAnnealingLR(optimizer, T_max=epochs, eta_min=0, last_epoch=-1, verbose=False)\n",
        "# scheduler_mode = 'epoch'\n",
        "\n",
        "### Start training process\n",
        "print(\"\\n\")\n",
        "print(\"Start training ...\\n\")\n",
        "trained_model, train_losses, val_losses = train_model(model, criterion, optimizer, trainloader, valloader, epochs=epochs, scheduler=scheduler, scheduler_mode=scheduler_mode)  "
      ],
      "execution_count": 13,
      "outputs": [
        {
          "output_type": "stream",
          "text": [
            "\n",
            "\n",
            "Start training ...\n",
            "\n",
            "Epoch 1 ===> 10:  Training loss: 1.748 | Validation loss: 1.683 | Training accuracy: 0.304 | Validation accuracy: 0.351 |\n",
            "Validation metrics:\n",
            "\n",
            "\n",
            "              precision    recall  f1-score   support\n",
            "\n",
            "         0.0       0.33      0.05      0.09       491\n",
            "         1.0       0.00      0.00      0.00        55\n",
            "         2.0       0.26      0.19      0.22       528\n",
            "         3.0       0.54      0.62      0.58       879\n",
            "         4.0       0.33      0.20      0.25       594\n",
            "         5.0       0.90      0.06      0.12       416\n",
            "         6.0       0.27      0.76      0.40       626\n",
            "\n",
            "    accuracy                           0.36      3589\n",
            "   macro avg       0.38      0.27      0.23      3589\n",
            "weighted avg       0.42      0.36      0.31      3589\n",
            "\n",
            "\n",
            "\n",
            "The validation loss has decreased: inf ===> 1.6833\n",
            "Start saving the model...\n",
            "The model has been successfully saved.\n",
            "Epoch 2 ===> 10:  Training loss: 1.594 | Validation loss: 1.566 | Training accuracy: 0.368 | Validation accuracy: 0.378 |\n",
            "Validation metrics:\n",
            "\n",
            "\n",
            "              precision    recall  f1-score   support\n",
            "\n",
            "         0.0       0.27      0.26      0.27       491\n",
            "         1.0       0.00      0.00      0.00        55\n",
            "         2.0       0.24      0.14      0.18       528\n",
            "         3.0       0.36      0.94      0.52       879\n",
            "         4.0       0.36      0.04      0.08       594\n",
            "         5.0       0.71      0.31      0.44       416\n",
            "         6.0       0.51      0.18      0.27       626\n",
            "\n",
            "    accuracy                           0.36      3589\n",
            "   macro avg       0.35      0.27      0.25      3589\n",
            "weighted avg       0.39      0.36      0.30      3589\n",
            "\n",
            "\n",
            "\n",
            "The validation loss has decreased: 1.6833 ===> 1.5662\n",
            "Start saving the model...\n",
            "The model has been successfully saved.\n",
            "Epoch 3 ===> 10:  Training loss: 1.493 | Validation loss: 1.325 | Training accuracy: 0.413 | Validation accuracy: 0.489 |\n",
            "Validation metrics:\n",
            "\n",
            "\n",
            "              precision    recall  f1-score   support\n",
            "\n",
            "         0.0       0.49      0.14      0.22       491\n",
            "         1.0       0.00      0.00      0.00        55\n",
            "         2.0       0.34      0.16      0.21       528\n",
            "         3.0       0.61      0.83      0.70       879\n",
            "         4.0       0.34      0.48      0.40       594\n",
            "         5.0       0.67      0.59      0.63       416\n",
            "         6.0       0.44      0.56      0.49       626\n",
            "\n",
            "    accuracy                           0.49      3589\n",
            "   macro avg       0.41      0.40      0.38      3589\n",
            "weighted avg       0.48      0.49      0.46      3589\n",
            "\n",
            "\n",
            "\n",
            "The validation loss has decreased: 1.5662 ===> 1.3253\n",
            "Start saving the model...\n",
            "The model has been successfully saved.\n",
            "Epoch 4 ===> 10:  Training loss: 1.413 | Validation loss: 1.741 | Training accuracy: 0.449 | Validation accuracy: 0.325 |\n",
            "Validation metrics:\n",
            "\n",
            "\n",
            "              precision    recall  f1-score   support\n",
            "\n",
            "         0.0       0.35      0.13      0.19       491\n",
            "         1.0       0.00      0.00      0.00        55\n",
            "         2.0       0.18      0.57      0.28       528\n",
            "         3.0       0.91      0.21      0.34       879\n",
            "         4.0       0.31      0.44      0.37       594\n",
            "         5.0       0.49      0.70      0.58       416\n",
            "         6.0       0.57      0.12      0.20       626\n",
            "\n",
            "    accuracy                           0.33      3589\n",
            "   macro avg       0.40      0.31      0.28      3589\n",
            "weighted avg       0.51      0.33      0.31      3589\n",
            "\n",
            "\n",
            "\n",
            "Epoch 5 ===> 10:  Training loss: 1.370 | Validation loss: 1.327 | Training accuracy: 0.463 | Validation accuracy: 0.493 |\n",
            "Validation metrics:\n",
            "\n",
            "\n",
            "              precision    recall  f1-score   support\n",
            "\n",
            "         0.0       0.34      0.50      0.41       491\n",
            "         1.0       0.00      0.00      0.00        55\n",
            "         2.0       0.35      0.17      0.23       528\n",
            "         3.0       0.75      0.75      0.75       879\n",
            "         4.0       0.34      0.62      0.44       594\n",
            "         5.0       0.82      0.40      0.54       416\n",
            "         6.0       0.55      0.40      0.46       626\n",
            "\n",
            "    accuracy                           0.50      3589\n",
            "   macro avg       0.45      0.41      0.40      3589\n",
            "weighted avg       0.53      0.50      0.49      3589\n",
            "\n",
            "\n",
            "\n",
            "Epoch 6 ===> 10:  Training loss: 1.330 | Validation loss: 1.193 | Training accuracy: 0.479 | Validation accuracy: 0.538 |\n",
            "Validation metrics:\n",
            "\n",
            "\n",
            "              precision    recall  f1-score   support\n",
            "\n",
            "         0.0       0.43      0.51      0.47       491\n",
            "         1.0       0.53      0.15      0.23        55\n",
            "         2.0       0.33      0.41      0.37       528\n",
            "         3.0       0.78      0.77      0.78       879\n",
            "         4.0       0.41      0.53      0.46       594\n",
            "         5.0       0.75      0.59      0.66       416\n",
            "         6.0       0.62      0.37      0.46       626\n",
            "\n",
            "    accuracy                           0.54      3589\n",
            "   macro avg       0.55      0.48      0.49      3589\n",
            "weighted avg       0.57      0.54      0.55      3589\n",
            "\n",
            "\n",
            "\n",
            "The validation loss has decreased: 1.3253 ===> 1.1926\n",
            "Start saving the model...\n",
            "The model has been successfully saved.\n",
            "Epoch 7 ===> 10:  Training loss: 1.286 | Validation loss: 1.214 | Training accuracy: 0.502 | Validation accuracy: 0.543 |\n",
            "Validation metrics:\n",
            "\n",
            "\n",
            "              precision    recall  f1-score   support\n",
            "\n",
            "         0.0       0.48      0.43      0.45       491\n",
            "         1.0       0.78      0.13      0.22        55\n",
            "         2.0       0.35      0.36      0.36       528\n",
            "         3.0       0.82      0.74      0.78       879\n",
            "         4.0       0.37      0.61      0.46       594\n",
            "         5.0       0.78      0.56      0.65       416\n",
            "         6.0       0.57      0.50      0.54       626\n",
            "\n",
            "    accuracy                           0.55      3589\n",
            "   macro avg       0.59      0.48      0.49      3589\n",
            "weighted avg       0.58      0.55      0.55      3589\n",
            "\n",
            "\n",
            "\n",
            "Epoch 8 ===> 10:  Training loss: 1.236 | Validation loss: 1.107 | Training accuracy: 0.524 | Validation accuracy: 0.578 |\n",
            "Validation metrics:\n",
            "\n",
            "\n",
            "              precision    recall  f1-score   support\n",
            "\n",
            "         0.0       0.57      0.41      0.47       491\n",
            "         1.0       0.63      0.22      0.32        55\n",
            "         2.0       0.41      0.34      0.37       528\n",
            "         3.0       0.78      0.83      0.80       879\n",
            "         4.0       0.41      0.58      0.48       594\n",
            "         5.0       0.79      0.59      0.67       416\n",
            "         6.0       0.53      0.58      0.55       626\n",
            "\n",
            "    accuracy                           0.58      3589\n",
            "   macro avg       0.59      0.51      0.53      3589\n",
            "weighted avg       0.59      0.58      0.57      3589\n",
            "\n",
            "\n",
            "\n",
            "The validation loss has decreased: 1.1926 ===> 1.1069\n",
            "Start saving the model...\n",
            "The model has been successfully saved.\n",
            "Epoch 9 ===> 10:  Training loss: 1.211 | Validation loss: 1.084 | Training accuracy: 0.530 | Validation accuracy: 0.583 |\n",
            "Validation metrics:\n",
            "\n",
            "\n",
            "              precision    recall  f1-score   support\n",
            "\n",
            "         0.0       0.51      0.51      0.51       491\n",
            "         1.0       0.83      0.18      0.30        55\n",
            "         2.0       0.41      0.30      0.34       528\n",
            "         3.0       0.80      0.82      0.81       879\n",
            "         4.0       0.40      0.54      0.46       594\n",
            "         5.0       0.73      0.69      0.71       416\n",
            "         6.0       0.57      0.56      0.56       626\n",
            "\n",
            "    accuracy                           0.58      3589\n",
            "   macro avg       0.61      0.51      0.53      3589\n",
            "weighted avg       0.59      0.58      0.58      3589\n",
            "\n",
            "\n",
            "\n",
            "The validation loss has decreased: 1.1069 ===> 1.0836\n",
            "Start saving the model...\n",
            "The model has been successfully saved.\n",
            "Epoch 10 ===> 10:  Training loss: 1.191 | Validation loss: 1.082 | Training accuracy: 0.541 | Validation accuracy: 0.590 |\n",
            "Validation metrics:\n",
            "\n",
            "\n",
            "              precision    recall  f1-score   support\n",
            "\n",
            "         0.0       0.49      0.51      0.50       491\n",
            "         1.0       0.73      0.20      0.31        55\n",
            "         2.0       0.44      0.25      0.32       528\n",
            "         3.0       0.79      0.84      0.82       879\n",
            "         4.0       0.43      0.54      0.48       594\n",
            "         5.0       0.72      0.72      0.72       416\n",
            "         6.0       0.55      0.58      0.57       626\n",
            "\n",
            "    accuracy                           0.59      3589\n",
            "   macro avg       0.59      0.52      0.53      3589\n",
            "weighted avg       0.59      0.59      0.58      3589\n",
            "\n",
            "\n",
            "\n",
            "The validation loss has decreased: 1.0836 ===> 1.0820\n",
            "Start saving the model...\n",
            "The model has been successfully saved.\n"
          ],
          "name": "stdout"
        }
      ]
    },
    {
      "cell_type": "markdown",
      "metadata": {
        "id": "2docZxaWOn8m"
      },
      "source": [
        "Plot the validation and training losses"
      ]
    },
    {
      "cell_type": "code",
      "metadata": {
        "colab": {
          "base_uri": "https://localhost:8080/",
          "height": 487
        },
        "id": "GvvGnvsl3Zi_",
        "outputId": "efc9cc9c-0bf5-4601-b2d4-e6ae557f67d2"
      },
      "source": [
        "def plot_losses(train_losses, val_losses):\n",
        "    \"\"\"\n",
        "    Function takes training and validation epoch losses and plots them.\n",
        "\n",
        "    Input: 1) train_losses - list of training epoch losses\n",
        "           2) val_losses - list of validation epoch losses\n",
        "\n",
        "    Return: plot the training and validation losses\n",
        "    \"\"\"\n",
        "    fig = plt.gcf()\n",
        "    fig.set_size_inches(10.5, 7.5)\n",
        "    plt.plot(list(range(1, len(train_losses) + 1)), train_losses, label='Training Loss')\n",
        "    plt.plot(list(range(1, len(val_losses) + 1)), val_losses, label='Validation Loss')\n",
        "    plt.gca().xaxis.set_major_locator(mticker.MultipleLocator(1))\n",
        "    plt.legend(fontsize=20)\n",
        "    plt.xlabel(\"Epochs\", fontsize=20)\n",
        "    plt.ylabel(\"Loss\", fontsize=20)\n",
        "    plt.xticks(fontsize=18)\n",
        "    plt.yticks(fontsize=18)\n",
        "    plt.show()\n",
        "    fig.savefig('test2png.png', dpi=100)\n",
        "\n",
        "plot_losses(train_losses, val_losses)"
      ],
      "execution_count": 14,
      "outputs": [
        {
          "output_type": "display_data",
          "data": {
            "image/png": "[encoded data removed]",
            "text/plain": [
              "<Figure size 756x540 with 1 Axes>"
            ]
          },
          "metadata": {
            "tags": [],
            "needs_background": "light"
          }
        }
      ]
    },
    {
      "cell_type": "markdown",
      "metadata": {
        "id": "nCSHDFPujU8_"
      },
      "source": [
        "# Testing the model on the test set\n"
      ]
    },
    {
      "cell_type": "code",
      "metadata": {
        "colab": {
          "base_uri": "https://localhost:8080/"
        },
        "id": "gaOnVOYnPnH8",
        "outputId": "20d114ba-5d7e-4cf0-ea5d-4bf1ff6088ab"
      },
      "source": [
        "# download the best trained model weights with the validation accuracy 70%\n",
        "!wget -c https://www.dropbox.com/s/axtvckf6zmc3a3g/opt_model70.pt\n",
        "\n",
        "# load the model weights on CPU\n",
        "model_weights = torch.load(\"/content/opt_model70.pt\", map_location={'cuda:0': 'cpu', 'cuda:1' : 'cpu'})\n",
        "\n",
        "# load the inference model with pretrained weights\n",
        "model_inference = UpgradedNet(dropout = 0.0, channel_coef=2)\n",
        "model_inference.load_state_dict(model_weights)\n",
        "model_inference.to(device)"
      ],
      "execution_count": 15,
      "outputs": [
        {
          "output_type": "stream",
          "text": [
            "--2021-05-25 11:37:54--  https://www.dropbox.com/s/axtvckf6zmc3a3g/opt_model70.pt\n",
            "Resolving www.dropbox.com (www.dropbox.com)... 162.125.2.18, 2620:100:6021:18::a27d:4112\n",
            "Connecting to www.dropbox.com (www.dropbox.com)|162.125.2.18|:443... connected.\n",
            "HTTP request sent, awaiting response... 301 Moved Permanently\n",
            "Location: /s/raw/axtvckf6zmc3a3g/opt_model70.pt [following]\n",
            "--2021-05-25 11:37:54--  https://www.dropbox.com/s/raw/axtvckf6zmc3a3g/opt_model70.pt\n",
            "Reusing existing connection to www.dropbox.com:443.\n",
            "HTTP request sent, awaiting response... 302 Found\n",
            "Location: https://ucbfd76108155ded5f459b8dd0fa.dl.dropboxusercontent.com/cd/0/inline/BPJoEgM-s037u1ykJBzBJgVDxlqj3GqZltfHjbkC3VE_5X-PiKbQc9CHjODnjQq4KK50TRtANz1M36I_zklPo4JmHys5KebLTNEkjoEBanUlRHjaRB7zV2hKmYiyQl729r1f6U-twNaj52juc7Q0D_I-/file# [following]\n",
            "--2021-05-25 11:37:54--  https://ucbfd76108155ded5f459b8dd0fa.dl.dropboxusercontent.com/cd/0/inline/BPJoEgM-s037u1ykJBzBJgVDxlqj3GqZltfHjbkC3VE_5X-PiKbQc9CHjODnjQq4KK50TRtANz1M36I_zklPo4JmHys5KebLTNEkjoEBanUlRHjaRB7zV2hKmYiyQl729r1f6U-twNaj52juc7Q0D_I-/file\n",
            "Resolving ucbfd76108155ded5f459b8dd0fa.dl.dropboxusercontent.com (ucbfd76108155ded5f459b8dd0fa.dl.dropboxusercontent.com)... 162.125.2.15, 2620:100:6021:15::a27d:410f\n",
            "Connecting to ucbfd76108155ded5f459b8dd0fa.dl.dropboxusercontent.com (ucbfd76108155ded5f459b8dd0fa.dl.dropboxusercontent.com)|162.125.2.15|:443... connected.\n",
            "HTTP request sent, awaiting response... 302 Found\n",
            "Location: /cd/0/inline2/BPK9C_TYJpIq0uuq1BHxFq5f9y8NuZs02GdtFY7LK-xvSRFC8KbCZAzV_zPKUazFKT8FjXrdbsfzbaFwNk5HuXjPLjNPcVxnccYPFyYAJ_sshk_Uv-q1hUeBgCl-LHHwlzJ9ZKY_LDyCW-aBXSNjNAACrqyDG0q-aNI2UDlS4UnauimNKBtiPW-fSQWWQBQrwnAZpSqge7vDHJ9QXUuPmukrAnMPCrcNm8yutBcgpjwD9QCWD7QLD-yhOgwXEMPWDmUDeY8XELJ7HThYh8HpeaHE68SE8WAzK_IyoUdEbhzRVhDO4FRyNNZLR06_bRv8zhHufGURLJN-Tf76z_zvAVCNctkPGIQMzny6emJaKhXZmwDuMl1DUV-Dsn5gKxwwnng/file [following]\n",
            "--2021-05-25 11:37:55--  https://ucbfd76108155ded5f459b8dd0fa.dl.dropboxusercontent.com/cd/0/inline2/BPK9C_TYJpIq0uuq1BHxFq5f9y8NuZs02GdtFY7LK-xvSRFC8KbCZAzV_zPKUazFKT8FjXrdbsfzbaFwNk5HuXjPLjNPcVxnccYPFyYAJ_sshk_Uv-q1hUeBgCl-LHHwlzJ9ZKY_LDyCW-aBXSNjNAACrqyDG0q-aNI2UDlS4UnauimNKBtiPW-fSQWWQBQrwnAZpSqge7vDHJ9QXUuPmukrAnMPCrcNm8yutBcgpjwD9QCWD7QLD-yhOgwXEMPWDmUDeY8XELJ7HThYh8HpeaHE68SE8WAzK_IyoUdEbhzRVhDO4FRyNNZLR06_bRv8zhHufGURLJN-Tf76z_zvAVCNctkPGIQMzny6emJaKhXZmwDuMl1DUV-Dsn5gKxwwnng/file\n",
            "Reusing existing connection to ucbfd76108155ded5f459b8dd0fa.dl.dropboxusercontent.com:443.\n",
            "HTTP request sent, awaiting response... 200 OK\n",
            "Length: 183003806 (175M) [application/octet-stream]\n",
            "Saving to: ‘opt_model70.pt’\n",
            "\n",
            "opt_model70.pt      100%[===================>] 174.53M   111MB/s    in 1.6s    \n",
            "\n",
            "2021-05-25 11:37:57 (111 MB/s) - ‘opt_model70.pt’ saved [183003806/183003806]\n",
            "\n"
          ],
          "name": "stdout"
        },
        {
          "output_type": "execute_result",
          "data": {
            "text/plain": [
              "UpgradedNet(\n",
              "  (cnn1): Conv2d(3, 64, kernel_size=(3, 3), stride=(1, 1), padding=(1, 1), bias=False)\n",
              "  (cnn2): Conv2d(64, 128, kernel_size=(3, 3), stride=(1, 1), padding=(1, 1), bias=False)\n",
              "  (cnn3): Conv2d(128, 256, kernel_size=(3, 3), stride=(1, 1), padding=(1, 1), bias=False)\n",
              "  (cnn4): Conv2d(256, 512, kernel_size=(3, 3), stride=(1, 1), padding=(1, 1), bias=False)\n",
              "  (cnn5): Conv2d(512, 1024, kernel_size=(1, 1), stride=(1, 1), padding=(1, 1), bias=False)\n",
              "  (cnn6): Conv2d(1024, 2048, kernel_size=(3, 3), stride=(1, 1), padding=(1, 1), bias=False)\n",
              "  (cnn7): Conv2d(2048, 1024, kernel_size=(3, 3), stride=(1, 1), padding=(1, 1), bias=False)\n",
              "  (cnn8): Conv2d(1024, 512, kernel_size=(3, 3), stride=(1, 1), padding=(1, 1), bias=False)\n",
              "  (cnn9): Conv2d(512, 256, kernel_size=(3, 3), stride=(1, 1), bias=False)\n",
              "  (cnn10): Conv2d(256, 7, kernel_size=(1, 1), stride=(1, 1), bias=False)\n",
              "  (bn1): BatchNorm2d(64, eps=1e-05, momentum=0.1, affine=True, track_running_stats=True)\n",
              "  (bn2): BatchNorm2d(128, eps=1e-05, momentum=0.1, affine=True, track_running_stats=True)\n",
              "  (bn3): BatchNorm2d(256, eps=1e-05, momentum=0.1, affine=True, track_running_stats=True)\n",
              "  (bn4): BatchNorm2d(512, eps=1e-05, momentum=0.1, affine=True, track_running_stats=True)\n",
              "  (bn5): BatchNorm2d(1024, eps=1e-05, momentum=0.1, affine=True, track_running_stats=True)\n",
              "  (bn6): BatchNorm2d(2048, eps=1e-05, momentum=0.1, affine=True, track_running_stats=True)\n",
              "  (bn7): BatchNorm2d(1024, eps=1e-05, momentum=0.1, affine=True, track_running_stats=True)\n",
              "  (bn8): BatchNorm2d(512, eps=1e-05, momentum=0.1, affine=True, track_running_stats=True)\n",
              "  (bn9): BatchNorm2d(256, eps=1e-05, momentum=0.1, affine=True, track_running_stats=True)\n",
              "  (relu): ReLU()\n",
              "  (max_pool): MaxPool2d(kernel_size=2, stride=2, padding=0, dilation=1, ceil_mode=False)\n",
              "  (avg_pool): AvgPool2d(kernel_size=4, stride=4, padding=0)\n",
              "  (dropout): Dropout(p=0.0, inplace=False)\n",
              ")"
            ]
          },
          "metadata": {
            "tags": []
          },
          "execution_count": 15
        }
      ]
    },
    {
      "cell_type": "code",
      "metadata": {
        "id": "FnC-jug8jVvj",
        "colab": {
          "base_uri": "https://localhost:8080/"
        },
        "outputId": "09152dce-f3d4-4174-d671-6fc928d76ecf"
      },
      "source": [
        "def test_model(model_inference, testloader):\n",
        "    \"\"\"\n",
        "    Function that tests the model and prints a classification report on the test data.\n",
        "\n",
        "    Input: 1) model_inference - the trained model\n",
        "           2) testloader - test dataloader\n",
        "\n",
        "    Return: displays the classification report of the model over the test set\n",
        "    \"\"\"\n",
        "    ### TESTING ###\n",
        "    val_running_loss = 0\n",
        "    val_accuracy = 0\n",
        "    # initialize lists for the confusion matrix\n",
        "    y_pred_list = []\n",
        "    y_gt_list = []\n",
        "\n",
        "    # set a model to the evaluation mode (freeze the weights)\n",
        "    model_inference.eval()\n",
        "\n",
        "    # disable the backpropogation\n",
        "    with torch.no_grad():\n",
        "        # iterate over batches\n",
        "        for images, labels in testloader:\n",
        "            # put images and labels of a batch on GPUs\n",
        "            images, labels = images.cuda(), labels.long().cuda()\n",
        "            # perform modeling for each image batch,\n",
        "            log_probs = model_inference(images)[-1]\n",
        "            # calculate the validation loss\n",
        "            val_running_loss += criterion(log_probs, labels)\n",
        "            # get the probability distribution over the classes\n",
        "            probs = torch.exp(log_probs)\n",
        "            # get the index of the highest probability\n",
        "            _, predicted = torch.max(probs.data, 1)\n",
        "            matched = (predicted == labels).squeeze()\n",
        "            # calculate the accuracy\n",
        "            val_accuracy += torch.mean(matched.type(torch.FloatTensor))\n",
        "\n",
        "            # append the lists with predictions and labels to calculate F1 score, precision and recall\n",
        "            y_pred_list.append(predicted.cpu().numpy())\n",
        "            y_gt_list.append(labels.cpu().numpy())\n",
        "\n",
        "    # calculate and report accuracy, F1 score, precision, and recall of the test set\n",
        "    y_pred_list = [a.squeeze().tolist() for a in y_pred_list]\n",
        "    y_gt_list = [a.squeeze().tolist() for a in y_gt_list]\n",
        "    y_pred_list_new = list(itertools.chain.from_iterable(y_pred_list))\n",
        "    y_gt_list_new = list(itertools.chain.from_iterable(y_gt_list))\n",
        "\n",
        "    # calculate the epoch test loss\n",
        "    val_losses.append(val_running_loss / len(testloader))\n",
        "\n",
        "    # report the performance of the current epoch\n",
        "    print(f\"Test performance ===>\",\n",
        "          f\"Test Loss: {val_losses[-1]:.3f}\",\n",
        "          f\"Test Acc: {val_accuracy/len(testloader):.3f}\")\n",
        "\n",
        "    print(\"Test metrics:\")\n",
        "    print(\"\\n\")\n",
        "    print(classification_report(np.asarray(y_gt_list_new, dtype=np.float32), np.asarray(y_pred_list_new, dtype=np.float32)))\n",
        "    print(\"\\n\")\n",
        "\n",
        "### Test the model\n",
        "test_model(model_inference, testloader)"
      ],
      "execution_count": 16,
      "outputs": [
        {
          "output_type": "stream",
          "text": [
            "Test performance ===> Test Loss: 1.012 Test Acc: 0.687\n",
            "Test metrics:\n",
            "\n",
            "\n",
            "              precision    recall  f1-score   support\n",
            "\n",
            "         0.0       0.59      0.62      0.60       467\n",
            "         1.0       0.84      0.57      0.68        56\n",
            "         2.0       0.55      0.52      0.54       496\n",
            "         3.0       0.87      0.86      0.87       895\n",
            "         4.0       0.57      0.59      0.58       653\n",
            "         5.0       0.80      0.79      0.79       415\n",
            "         6.0       0.58      0.60      0.59       607\n",
            "\n",
            "    accuracy                           0.68      3589\n",
            "   macro avg       0.69      0.65      0.66      3589\n",
            "weighted avg       0.68      0.68      0.68      3589\n",
            "\n",
            "\n",
            "\n"
          ],
          "name": "stdout"
        }
      ]
    },
    {
      "cell_type": "markdown",
      "metadata": {
        "id": "uprg5dgnPVeB"
      },
      "source": [
        "# Predict labels"
      ]
    },
    {
      "cell_type": "code",
      "metadata": {
        "colab": {
          "base_uri": "https://localhost:8080/",
          "height": 260
        },
        "id": "FVewanYtPYN4",
        "outputId": "4479b212-299f-44d8-e621-d9945ccd60f9"
      },
      "source": [
        "def predict_random_img(model_inference, testloader):\n",
        "    \"\"\"\n",
        "    Function that visualizes a prediction of the model on a random image from a test dataset.\n",
        "    \n",
        "    Input: 1) model_inference - the trained model\n",
        "           2) testloader - test dataloader\n",
        "\n",
        "    Return: visualization of the given image, true and predicted labels of that image\n",
        "    \"\"\"\n",
        "\n",
        "    # set a model to the evaluation mode (freeze the weights)\n",
        "    model_inference.eval()\n",
        "\n",
        "    # get the layers\n",
        "\n",
        "    # disable the backpropogation\n",
        "    with torch.no_grad():\n",
        "        # iterate over batches\n",
        "        for images, labels in testloader:\n",
        "            # put images and labels of a batch on GPUs\n",
        "            images, labels = images.cuda(), labels.long().cuda()\n",
        "            # perform modeling for each image batch\n",
        "            inference = model_inference(images)[-1]\n",
        "            probs = torch.exp(inference)\n",
        "            # get the index of the highest probability\n",
        "            _, predicted = torch.max(probs.data, 1)\n",
        "            break\n",
        "\n",
        "    # classes definition\n",
        "    classes = {0: 'Angry', 1: 'Disgust', 2: 'Fear', 3: 'Happy', 4: 'Sad', 5: 'Surprise', 6: 'Neutral'}\n",
        "    idx = np.random.randint(len(images))\n",
        "    # display original images\n",
        "    images = images[idx, :, :, :].cpu()\n",
        "    images = images.data\n",
        "\n",
        "    print(f\"True label: {classes[int(labels[idx].cpu().numpy())]}\")\n",
        "    print(f\"Predicted label: {classes[int(predicted[idx].cpu().numpy())]}\")\n",
        "\n",
        "    fig = plt.figure()\n",
        "    plt.figure(figsize=(30,30))\n",
        "    for idx, filt in enumerate(images):\n",
        "        #print(filt[0, :, :])\n",
        "        #.reshape(filt.shape[0], filt.shape[1])\n",
        "        plt.subplot(4, 8, idx + 1)\n",
        "        plt.imshow(filt, cmap=\"gray\")\n",
        "        plt.axis('off')\n",
        "\n",
        "        #plt.imshow(im.reshape(im.shape[0], im.shape[1])\n",
        "        \n",
        "    fig.show()\n",
        "\n",
        "\n",
        "# run the function\n",
        "predict_random_img(model_inference, testloader)"
      ],
      "execution_count": 17,
      "outputs": [
        {
          "output_type": "stream",
          "text": [
            "True label: Surprise\n",
            "Predicted label: Surprise\n"
          ],
          "name": "stdout"
        },
        {
          "output_type": "display_data",
          "data": {
            "text/plain": [
              "<Figure size 432x288 with 0 Axes>"
            ]
          },
          "metadata": {
            "tags": []
          }
        },
        {
          "output_type": "display_data",
          "data": {
            "image/png": "[encoded data removed]",
            "text/plain": [
              "<Figure size 2160x2160 with 3 Axes>"
            ]
          },
          "metadata": {
            "tags": [],
            "needs_background": "light"
          }
        }
      ]
    },
    {
      "cell_type": "markdown",
      "metadata": {
        "id": "uh-MQrAi92c-"
      },
      "source": [
        "# Visualizing filters and weights\n"
      ]
    },
    {
      "cell_type": "code",
      "metadata": {
        "id": "DLZLIm3bZAjR"
      },
      "source": [
        "def view_filters(model_weights, layer_num=1, size_display=False):\n",
        "    \"\"\"\n",
        "    Function that visualizes the learned filters of the model.\n",
        "\n",
        "    Input: 1) model_weights - the learned model weights\n",
        "           2) layer_num - the filter that we want to visualize\n",
        "           3) size_display - a flag to indicate whether we want to see the feasible number of layer_num\n",
        "    Return: plots the learned filters\n",
        "    \"\"\"\n",
        "\n",
        "    # display the sizes of convolution weights (tensors)\n",
        "    tmp_name = f\"cnn{layer_num}.weight\"\n",
        "    if size_display:\n",
        "        print(f\"size of layer number {layer_num}:\", model_weights[tmp_name].size())\n",
        "\n",
        "    if model_weights[tmp_name].size()[0] == 32:\n",
        "        num_cols = 4\n",
        "        num_rows = 8\n",
        "    elif model_weights[tmp_name].size()[0] == 64:\n",
        "        num_cols = 8\n",
        "        num_rows = 8\n",
        "    elif model_weights[tmp_name].size()[0] == 128:\n",
        "        num_cols = 8\n",
        "        num_rows = 16\n",
        "    elif model_weights[tmp_name].size()[0] == 256:\n",
        "        num_cols = 16\n",
        "        num_rows = 16\n",
        "\n",
        "    # plot filters\n",
        "    fig = plt.figure()\n",
        "    plt.figure(figsize=(10,10))\n",
        "\n",
        "    for idx, filt in enumerate(model_weights[f\"cnn{layer_num}.weight\"]):\n",
        "        # print(filt[0, :, :].shape)\n",
        "        plt.subplot(num_cols, num_rows, idx + 1)\n",
        "        plt.imshow(filt[0, :, :], cmap=\"gray\")\n",
        "        plt.axis('off')\n",
        "        \n",
        "        \n",
        "    fig.show()\n",
        "    plt.tight_layout()"
      ],
      "execution_count": 18,
      "outputs": []
    },
    {
      "cell_type": "code",
      "metadata": {
        "id": "SF9KhJwkc4Y7"
      },
      "source": [
        "def pass_images(model_inference, testloader, layer_num=0):\n",
        "    \"\"\"\n",
        "    Function that visualizes the feature maps of the layer of the model.\n",
        "\n",
        "    Input: 1) model_inference - the trained model \n",
        "           2) testloader - test data loader\n",
        "           3) layer_num - the filter that we want to visualize\n",
        "\n",
        "    Return: visualizes the feature maps of the layer of the model.\n",
        "    \"\"\"\n",
        "\n",
        "    # set a model to the evaluation mode (freeze the weights)\n",
        "    model_inference.eval()\n",
        "\n",
        "    # get the layers\n",
        "\n",
        "    # disable the backpropogation\n",
        "    with torch.no_grad():\n",
        "        # iterate over batches\n",
        "        for images, labels in testloader:\n",
        "            # put images and labels of a batch on GPUs\n",
        "            images, labels = images.cuda(), labels.long().cuda()\n",
        "            # perform modeling for each image batch\n",
        "            inference = model_inference(images)\n",
        "            break\n",
        "    \n",
        "    # display original images\n",
        "    images = images[15, :, :, :].cpu()\n",
        "    images = images.data\n",
        "    print(labels[15])\n",
        "    print(images.size())\n",
        "\n",
        "    fig = plt.figure()\n",
        "    plt.figure(figsize=(30,30))\n",
        "    for idx, filt in enumerate(images):\n",
        "        #print(filt[0, :, :])\n",
        "        #.reshape(filt.shape[0], filt.shape[1])\n",
        "        plt.subplot(4, 8, idx + 1)\n",
        "        plt.imshow(filt, cmap=\"gray\")\n",
        "        plt.axis('off')\n",
        "\n",
        "        #plt.imshow(im.reshape(im.shape[0], im.shape[1])\n",
        "        \n",
        "    fig.show()\n",
        "    \n",
        "    # display the passing through the layer\n",
        "    layer = inference[layer_num][15, :16, :, :].cpu()\n",
        "    layer = layer.data\n",
        "\n",
        "    fig = plt.figure()\n",
        "    plt.figure(figsize=(20,20))\n",
        "    for idx, filt in enumerate(layer):\n",
        "        #print(filt[0, :, :])\n",
        "        #.reshape(filt.shape[0], filt.shape[1])\n",
        "        plt.subplot(8, 8, idx + 1)\n",
        "        plt.imshow(filt, cmap=\"gray\")\n",
        "        plt.axis('off')\n",
        "\n",
        "        #plt.imshow(im.reshape(im.shape[0], im.shape[1])\n",
        "    plt.tight_layout()\n",
        "    fig.show()"
      ],
      "execution_count": 19,
      "outputs": []
    },
    {
      "cell_type": "markdown",
      "metadata": {
        "id": "TfwQzKnNQHjb"
      },
      "source": [
        "Visualize the learned filters"
      ]
    },
    {
      "cell_type": "code",
      "metadata": {
        "id": "mhuJMJK-h0ri",
        "colab": {
          "base_uri": "https://localhost:8080/",
          "height": 746
        },
        "outputId": "a1a4c57a-55c5-4432-fb31-8b5b55974366"
      },
      "source": [
        "# visualize the learned filters\n",
        "view_filters(model_weights, layer_num=1, size_display=False)"
      ],
      "execution_count": 20,
      "outputs": [
        {
          "output_type": "display_data",
          "data": {
            "text/plain": [
              "<Figure size 432x288 with 0 Axes>"
            ]
          },
          "metadata": {
            "tags": []
          }
        },
        {
          "output_type": "display_data",
          "data": {
            "image/png": "[encoded data removed]",
            "text/plain": [
              "<Figure size 720x720 with 64 Axes>"
            ]
          },
          "metadata": {
            "tags": [],
            "needs_background": "light"
          }
        }
      ]
    },
    {
      "cell_type": "markdown",
      "metadata": {
        "id": "UiwztRbbQBTB"
      },
      "source": [
        "Visualize the feature maps of the different convolutional layers"
      ]
    },
    {
      "cell_type": "code",
      "metadata": {
        "colab": {
          "base_uri": "https://localhost:8080/",
          "height": 637
        },
        "id": "VcQJoHhbJ3ch",
        "outputId": "d856b899-f929-4905-dcbc-081c1c429ff7"
      },
      "source": [
        "pass_images(model_inference, testloader, layer_num=3)"
      ],
      "execution_count": 21,
      "outputs": [
        {
          "output_type": "stream",
          "text": [
            "tensor(2, device='cuda:0')\n",
            "torch.Size([3, 48, 48])\n"
          ],
          "name": "stdout"
        },
        {
          "output_type": "display_data",
          "data": {
            "text/plain": [
              "<Figure size 432x288 with 0 Axes>"
            ]
          },
          "metadata": {
            "tags": []
          }
        },
        {
          "output_type": "display_data",
          "data": {
            "image/png": "[encoded data removed]",
            "text/plain": [
              "<Figure size 2160x2160 with 3 Axes>"
            ]
          },
          "metadata": {
            "tags": [],
            "needs_background": "light"
          }
        },
        {
          "output_type": "display_data",
          "data": {
            "text/plain": [
              "<Figure size 432x288 with 0 Axes>"
            ]
          },
          "metadata": {
            "tags": []
          }
        },
        {
          "output_type": "display_data",
          "data": {
            "image/png": "[encoded data removed]",
            "text/plain": [
              "<Figure size 1440x1440 with 16 Axes>"
            ]
          },
          "metadata": {
            "tags": [],
            "needs_background": "light"
          }
        }
      ]
    },
    {
      "cell_type": "code",
      "metadata": {
        "colab": {
          "base_uri": "https://localhost:8080/",
          "height": 637
        },
        "id": "8JNaYRxhGS59",
        "outputId": "5743338b-bdf0-444c-ae3f-68888f63665e"
      },
      "source": [
        "pass_images(model_inference, testloader, layer_num=5)"
      ],
      "execution_count": 22,
      "outputs": [
        {
          "output_type": "stream",
          "text": [
            "tensor(2, device='cuda:0')\n",
            "torch.Size([3, 48, 48])\n"
          ],
          "name": "stdout"
        },
        {
          "output_type": "display_data",
          "data": {
            "text/plain": [
              "<Figure size 432x288 with 0 Axes>"
            ]
          },
          "metadata": {
            "tags": []
          }
        },
        {
          "output_type": "display_data",
          "data": {
            "image/png": "[encoded data removed]",
            "text/plain": [
              "<Figure size 2160x2160 with 3 Axes>"
            ]
          },
          "metadata": {
            "tags": [],
            "needs_background": "light"
          }
        },
        {
          "output_type": "display_data",
          "data": {
            "text/plain": [
              "<Figure size 432x288 with 0 Axes>"
            ]
          },
          "metadata": {
            "tags": []
          }
        },
        {
          "output_type": "display_data",
          "data": {
            "image/png": "[encoded data removed]",
            "text/plain": [
              "<Figure size 1440x1440 with 16 Axes>"
            ]
          },
          "metadata": {
            "tags": [],
            "needs_background": "light"
          }
        }
      ]
    },
    {
      "cell_type": "code",
      "metadata": {
        "id": "p9rSnuoPh43y",
        "colab": {
          "base_uri": "https://localhost:8080/",
          "height": 637
        },
        "outputId": "40b725f9-3731-45c2-c49f-99a0a5e85f22"
      },
      "source": [
        "pass_images(model_inference, testloader, layer_num=7)"
      ],
      "execution_count": 23,
      "outputs": [
        {
          "output_type": "stream",
          "text": [
            "tensor(2, device='cuda:0')\n",
            "torch.Size([3, 48, 48])\n"
          ],
          "name": "stdout"
        },
        {
          "output_type": "display_data",
          "data": {
            "text/plain": [
              "<Figure size 432x288 with 0 Axes>"
            ]
          },
          "metadata": {
            "tags": []
          }
        },
        {
          "output_type": "display_data",
          "data": {
            "image/png": "[encoded data removed]",
            "text/plain": [
              "<Figure size 2160x2160 with 3 Axes>"
            ]
          },
          "metadata": {
            "tags": [],
            "needs_background": "light"
          }
        },
        {
          "output_type": "display_data",
          "data": {
            "text/plain": [
              "<Figure size 432x288 with 0 Axes>"
            ]
          },
          "metadata": {
            "tags": []
          }
        },
        {
          "output_type": "display_data",
          "data": {
            "image/png": "[encoded data removed]",
            "text/plain": [
              "<Figure size 1440x1440 with 16 Axes>"
            ]
          },
          "metadata": {
            "tags": [],
            "needs_background": "light"
          }
        }
      ]
    },
    {
      "cell_type": "code",
      "metadata": {
        "colab": {
          "base_uri": "https://localhost:8080/",
          "height": 637
        },
        "id": "gZqys01PJ9Ao",
        "outputId": "e6d487fd-86b2-43d3-835f-51a7084b057b"
      },
      "source": [
        "pass_images(model_inference, testloader, layer_num=9)"
      ],
      "execution_count": 24,
      "outputs": [
        {
          "output_type": "stream",
          "text": [
            "tensor(2, device='cuda:0')\n",
            "torch.Size([3, 48, 48])\n"
          ],
          "name": "stdout"
        },
        {
          "output_type": "display_data",
          "data": {
            "text/plain": [
              "<Figure size 432x288 with 0 Axes>"
            ]
          },
          "metadata": {
            "tags": []
          }
        },
        {
          "output_type": "display_data",
          "data": {
            "image/png": "[encoded data removed]",
            "text/plain": [
              "<Figure size 2160x2160 with 3 Axes>"
            ]
          },
          "metadata": {
            "tags": [],
            "needs_background": "light"
          }
        },
        {
          "output_type": "display_data",
          "data": {
            "text/plain": [
              "<Figure size 432x288 with 0 Axes>"
            ]
          },
          "metadata": {
            "tags": []
          }
        },
        {
          "output_type": "display_data",
          "data": {
            "image/png": "[encoded data removed]",
            "text/plain": [
              "<Figure size 1440x1440 with 16 Axes>"
            ]
          },
          "metadata": {
            "tags": [],
            "needs_background": "light"
          }
        }
      ]
    },
    {
      "cell_type": "code",
      "metadata": {
        "colab": {
          "base_uri": "https://localhost:8080/",
          "height": 637
        },
        "id": "DZhi9iRGKOfd",
        "outputId": "adc092b3-e0c8-48d3-9d40-2ba281daca45"
      },
      "source": [
        "pass_images(model_inference, testloader, layer_num=-8)"
      ],
      "execution_count": 25,
      "outputs": [
        {
          "output_type": "stream",
          "text": [
            "tensor(2, device='cuda:0')\n",
            "torch.Size([3, 48, 48])\n"
          ],
          "name": "stdout"
        },
        {
          "output_type": "display_data",
          "data": {
            "text/plain": [
              "<Figure size 432x288 with 0 Axes>"
            ]
          },
          "metadata": {
            "tags": []
          }
        },
        {
          "output_type": "display_data",
          "data": {
            "image/png": "[encoded data removed]",
            "text/plain": [
              "<Figure size 2160x2160 with 3 Axes>"
            ]
          },
          "metadata": {
            "tags": [],
            "needs_background": "light"
          }
        },
        {
          "output_type": "display_data",
          "data": {
            "text/plain": [
              "<Figure size 432x288 with 0 Axes>"
            ]
          },
          "metadata": {
            "tags": []
          }
        },
        {
          "output_type": "display_data",
          "data": {
            "image/png": "[encoded data removed]",
            "text/plain": [
              "<Figure size 1440x1440 with 16 Axes>"
            ]
          },
          "metadata": {
            "tags": [],
            "needs_background": "light"
          }
        }
      ]
    }
  ]
}